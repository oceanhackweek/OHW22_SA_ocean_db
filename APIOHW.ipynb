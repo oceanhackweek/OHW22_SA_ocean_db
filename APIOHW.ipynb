{
  "nbformat": 4,
  "nbformat_minor": 0,
  "metadata": {
    "colab": {
      "name": "APIOHW.ipynb",
      "provenance": []
    },
    "kernelspec": {
      "name": "python3",
      "display_name": "Python 3"
    },
    "language_info": {
      "name": "python"
    }
  },
  "cells": [
    {
      "cell_type": "code",
      "execution_count": null,
      "metadata": {
        "id": "MtkAiuBevLWu"
      },
      "outputs": [],
      "source": [
        "!pip install fastapi uvicorn #install the package to run the fast API #To install other dependencies you can run terminal commands by putting ! in front of the runtime\n",
        "#for example to install a needed python use '!pip install [your-package]'\n",
        "'''Create a package'''\n",
        "'''Create file'''\n",
        "\n",
        "\n",
        "\n"
      ]
    }
  ]
}